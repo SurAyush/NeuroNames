{
 "cells": [
  {
   "cell_type": "code",
   "execution_count": 210,
   "metadata": {},
   "outputs": [],
   "source": [
    "import torch\n",
    "import torch.nn as nn\n",
    "import torch.nn.functional as F\n",
    "import torch.optim as optim\n",
    "import numpy as np"
   ]
  },
  {
   "cell_type": "code",
   "execution_count": 211,
   "metadata": {},
   "outputs": [],
   "source": [
    "with open(\"names.txt\",'r') as f:\n",
    "    words = f.read().split('\\n')"
   ]
  },
  {
   "cell_type": "code",
   "execution_count": 212,
   "metadata": {},
   "outputs": [
    {
     "data": {
      "text/plain": [
       "['emma', 'olivia', 'ava', 'isabella', 'sophia']"
      ]
     },
     "execution_count": 212,
     "metadata": {},
     "output_type": "execute_result"
    }
   ],
   "source": [
    "words[:5]"
   ]
  },
  {
   "cell_type": "code",
   "execution_count": 213,
   "metadata": {},
   "outputs": [
    {
     "data": {
      "text/plain": [
       "15"
      ]
     },
     "execution_count": 213,
     "metadata": {},
     "output_type": "execute_result"
    }
   ],
   "source": [
    "max([len(w) for w in words])"
   ]
  },
  {
   "cell_type": "code",
   "execution_count": 214,
   "metadata": {},
   "outputs": [],
   "source": [
    "# modifying \n",
    "# . : end of seq\n",
    "# ~ : start of seq\n",
    "# padding with . to make all words of same length\n",
    "max_len = 16            # 15+1\n",
    "words_mod = ['~' + word.lower() + '.'*(max_len-len(word)) for word in words]"
   ]
  },
  {
   "cell_type": "code",
   "execution_count": 215,
   "metadata": {},
   "outputs": [
    {
     "data": {
      "text/plain": [
       "['~emma............',\n",
       " '~olivia..........',\n",
       " '~ava.............',\n",
       " '~isabella........',\n",
       " '~sophia..........']"
      ]
     },
     "execution_count": 215,
     "metadata": {},
     "output_type": "execute_result"
    }
   ],
   "source": [
    "words_mod[:5]"
   ]
  },
  {
   "cell_type": "code",
   "execution_count": 216,
   "metadata": {},
   "outputs": [],
   "source": [
    "stoi = {chr(c):(c-97) for c in range(97,122+1)}\n",
    "stoi['.'] = 26\n",
    "stoi['~'] = 27\n",
    "itos = {stoi[k]:k for k in stoi.keys()}"
   ]
  },
  {
   "cell_type": "code",
   "execution_count": 217,
   "metadata": {},
   "outputs": [],
   "source": [
    "def encoder(l):\n",
    "    ''' It will take a list of strings (words) and it will return a 2D list of each char encoded '''\n",
    "    res = [list(el) for el in l]   # splitting it characterwise\n",
    "    for i,el in enumerate(res):\n",
    "        for j,ch in enumerate(el):\n",
    "            res[i][j] = stoi[ch]\n",
    "    \n",
    "    return res\n",
    "\n",
    "\n",
    "def decoder(l):\n",
    "    ''' It will take a 2D list of int and decode it to a 1D list of strings '''\n",
    "    res = []\n",
    "    for el in l:\n",
    "        w = ''.join(itos[ch] for ch in el)\n",
    "        res.append(w)\n",
    "    \n",
    "    return res"
   ]
  },
  {
   "cell_type": "code",
   "execution_count": 218,
   "metadata": {},
   "outputs": [
    {
     "data": {
      "text/plain": [
       "(28829, 3204)"
      ]
     },
     "execution_count": 218,
     "metadata": {},
     "output_type": "execute_result"
    }
   ],
   "source": [
    "data = encoder(words_mod)\n",
    "\n",
    "n = 0.9\n",
    "\n",
    "# shuffling data\n",
    "np.random.shuffle(data)\n",
    "\n",
    "ul = int(n*len(data))\n",
    "\n",
    "data_train = data[:ul]\n",
    "data_val = data[ul:]\n",
    "\n",
    "len(data_train), len(data_val)"
   ]
  },
  {
   "cell_type": "code",
   "execution_count": 219,
   "metadata": {},
   "outputs": [
    {
     "data": {
      "text/plain": [
       "[[27, 8, 19, 25, 0, 24, 0, 13, 13, 0, 26, 26, 26, 26, 26, 26, 26],\n",
       " [27, 3, 0, 24, 18, 4, 13, 26, 26, 26, 26, 26, 26, 26, 26, 26, 26],\n",
       " [27, 9, 20, 11, 8, 4, 19, 7, 26, 26, 26, 26, 26, 26, 26, 26, 26]]"
      ]
     },
     "execution_count": 219,
     "metadata": {},
     "output_type": "execute_result"
    }
   ],
   "source": [
    "data_val[:3]"
   ]
  },
  {
   "cell_type": "code",
   "execution_count": 220,
   "metadata": {},
   "outputs": [],
   "source": [
    "# buidling the dataset\n",
    "X_train = torch.tensor([el[:max_len] for el in data_train])\n",
    "X_test = torch.tensor([el[:max_len] for el in data_val])\n",
    "Y_train = torch.tensor([el[1:max_len + 1] for el in data_train])\n",
    "Y_test = torch.tensor([el[1:max_len + 1] for el in data_val])"
   ]
  },
  {
   "cell_type": "code",
   "execution_count": 221,
   "metadata": {},
   "outputs": [
    {
     "data": {
      "text/plain": [
       "tensor([[27, 18,  7,  0, 11,  8, 24,  0,  7, 26, 26, 26, 26, 26, 26, 26],\n",
       "        [27,  4, 11, 11,  8, 24,  0,  7, 26, 26, 26, 26, 26, 26, 26, 26],\n",
       "        [27,  5,  4, 17, 17,  8, 18, 26, 26, 26, 26, 26, 26, 26, 26, 26]])"
      ]
     },
     "execution_count": 221,
     "metadata": {},
     "output_type": "execute_result"
    }
   ],
   "source": [
    "X_train[:3]"
   ]
  },
  {
   "cell_type": "code",
   "execution_count": 222,
   "metadata": {},
   "outputs": [
    {
     "data": {
      "text/plain": [
       "tensor([[18,  7,  0, 11,  8, 24,  0,  7, 26, 26, 26, 26, 26, 26, 26, 26],\n",
       "        [ 4, 11, 11,  8, 24,  0,  7, 26, 26, 26, 26, 26, 26, 26, 26, 26],\n",
       "        [ 5,  4, 17, 17,  8, 18, 26, 26, 26, 26, 26, 26, 26, 26, 26, 26]])"
      ]
     },
     "execution_count": 222,
     "metadata": {},
     "output_type": "execute_result"
    }
   ],
   "source": [
    "Y_train[:3]"
   ]
  },
  {
   "cell_type": "code",
   "execution_count": 223,
   "metadata": {},
   "outputs": [],
   "source": [
    "n_layers = 3\n",
    "n_hidden = 128\n",
    "n_output = 27\n",
    "alpha = 1e-3\n",
    "n_vocab = 28\n",
    "n_emb = 128\n",
    "batch_size = 640\n",
    "max_len = 16"
   ]
  },
  {
   "cell_type": "code",
   "execution_count": 232,
   "metadata": {},
   "outputs": [],
   "source": [
    "class LSTM_OP(nn.Module):\n",
    "\n",
    "    def __init__(self, n_vocab, n_emb, n_hidden, n_layers, dropout=0.1):\n",
    "        super().__init__()\n",
    "        self.n_emb = n_emb\n",
    "        self.n_vocab = n_vocab\n",
    "        self.n_hidden = n_hidden\n",
    "        self.n_layers = n_layers\n",
    "        self.embedding = nn.Embedding(n_vocab, n_emb)\n",
    "        self.lstm = nn.LSTM(n_emb, n_hidden, n_layers, batch_first=True, dropout=dropout)\n",
    "        # batch_first=True means that the first dimension of the input tensor will be the batch size -> (batch_size, seq_len, n_features)\n",
    "        self.fc = nn.Linear(n_hidden, n_emb)\n",
    "        self.relu = nn.ReLU()\n",
    "        self.output = nn.Linear(n_emb, n_vocab)\n",
    "    \n",
    "    def forward(self,x):\n",
    "        '''x: (batch_size, seq_len)'''\n",
    "        # pack_padded_seq can be applied to reduce computation but not necessary here\n",
    "        x = self.embedding(x)                                           # (batch_size, seq_len, n_emb)\n",
    "        cell_state = torch.zeros(self.n_layers, x.size(0), self.n_hidden)       # long term memory\n",
    "        hidden_state = torch.zeros(self.n_layers, x.size(0), self.n_hidden)     # short term memory\n",
    "        out, _ = self.lstm(x, (hidden_state, cell_state))       # we just need the long term memory\n",
    "        # Since we're often interested in predicting based on the entire sequence, taking the last output represents the accumulated information over the whole sequence.\n",
    "        out = self.fc(out)\n",
    "        out = self.relu(out)\n",
    "        out = self.output(out)\n",
    "\n",
    "        return out\n",
    "    \n",
    "    def generate_words(self,X,max_len):\n",
    "        \n",
    "        self.eval()\n",
    "        t = X.shape[1] \n",
    "            \n",
    "        for i in range(max_len - t + 1):      # t:max -> 17\n",
    "            out = self.forward(X)\n",
    "            out = out[:,-1,:]      #(B,C)   we just need the last char\n",
    "            probs = F.softmax(out,dim=-1)\n",
    "            # return indices\n",
    "            next_char = torch.multinomial(probs,num_samples=1)   #(B,1)\n",
    "            X = torch.cat((X,next_char),dim=1)\n",
    "\n",
    "        return X"
   ]
  },
  {
   "cell_type": "code",
   "execution_count": 275,
   "metadata": {},
   "outputs": [],
   "source": [
    "model = LSTM_OP(n_vocab, n_emb, n_hidden, n_layers, dropout=0.2)"
   ]
  },
  {
   "cell_type": "code",
   "execution_count": 276,
   "metadata": {},
   "outputs": [
    {
     "data": {
      "text/plain": [
       "LSTM_OP(\n",
       "  (embedding): Embedding(28, 128)\n",
       "  (lstm): LSTM(128, 128, num_layers=3, batch_first=True, dropout=0.2)\n",
       "  (fc): Linear(in_features=128, out_features=128, bias=True)\n",
       "  (relu): ReLU()\n",
       "  (output): Linear(in_features=128, out_features=28, bias=True)\n",
       ")"
      ]
     },
     "execution_count": 276,
     "metadata": {},
     "output_type": "execute_result"
    }
   ],
   "source": [
    "criterion = nn.CrossEntropyLoss()\n",
    "optimizer = optim.Adam(model.parameters(), lr=alpha)\n",
    "model.train()"
   ]
  },
  {
   "cell_type": "code",
   "execution_count": 277,
   "metadata": {},
   "outputs": [],
   "source": [
    "@torch.no_grad()\n",
    "def get_loss():\n",
    "    '''Returns the loss on the validation set'''\n",
    "    out = model(X_test)\n",
    "    loss = criterion(out.view(-1,n_vocab),Y_test.view(-1))\n",
    "    return loss.item()"
   ]
  },
  {
   "cell_type": "code",
   "execution_count": 278,
   "metadata": {},
   "outputs": [
    {
     "data": {
      "text/plain": [
       "3.2924938201904297"
      ]
     },
     "execution_count": 278,
     "metadata": {},
     "output_type": "execute_result"
    }
   ],
   "source": [
    "get_loss()"
   ]
  },
  {
   "cell_type": "code",
   "execution_count": 279,
   "metadata": {},
   "outputs": [],
   "source": [
    "J_hist = []"
   ]
  },
  {
   "cell_type": "code",
   "execution_count": 280,
   "metadata": {},
   "outputs": [
    {
     "name": "stdout",
     "output_type": "stream",
     "text": [
      "Epoch: 1 - Iteration: 1 Loss: 3.292637348175049\n",
      "Epoch: 1 - Iteration: 11 Loss: 1.758795976638794\n",
      "Epoch: 1 - Iteration: 21 Loss: 1.4291845560073853\n",
      "Epoch: 1 - Iteration: 31 Loss: 1.3465253114700317\n",
      "Epoch: 1 - Iteration: 41 Loss: 1.3251841068267822\n",
      "Epoch: 1 Validation Loss: 1.2886110544204712\n",
      "Epoch: 2 - Iteration: 1 Loss: 1.3191988468170166\n",
      "Epoch: 2 - Iteration: 11 Loss: 1.2461971044540405\n",
      "Epoch: 2 - Iteration: 21 Loss: 1.2224266529083252\n",
      "Epoch: 2 - Iteration: 31 Loss: 1.1876757144927979\n",
      "Epoch: 2 - Iteration: 41 Loss: 1.1936991214752197\n",
      "Epoch: 2 Validation Loss: 1.1767185926437378\n",
      "Epoch: 3 - Iteration: 1 Loss: 1.207777738571167\n",
      "Epoch: 3 - Iteration: 11 Loss: 1.1589257717132568\n",
      "Epoch: 3 - Iteration: 21 Loss: 1.1573731899261475\n",
      "Epoch: 3 - Iteration: 31 Loss: 1.1417443752288818\n",
      "Epoch: 3 - Iteration: 41 Loss: 1.1597363948822021\n",
      "Epoch: 3 Validation Loss: 1.1460222005844116\n",
      "Epoch: 4 - Iteration: 1 Loss: 1.1736698150634766\n",
      "Epoch: 4 - Iteration: 11 Loss: 1.1279008388519287\n",
      "Epoch: 4 - Iteration: 21 Loss: 1.125194787979126\n",
      "Epoch: 4 - Iteration: 31 Loss: 1.1104938983917236\n",
      "Epoch: 4 - Iteration: 41 Loss: 1.1243772506713867\n",
      "Epoch: 4 Validation Loss: 1.1081805229187012\n",
      "Epoch: 5 - Iteration: 1 Loss: 1.1360656023025513\n",
      "Epoch: 5 - Iteration: 11 Loss: 1.0852866172790527\n",
      "Epoch: 5 - Iteration: 21 Loss: 1.083046793937683\n",
      "Epoch: 5 - Iteration: 31 Loss: 1.065664529800415\n",
      "Epoch: 5 - Iteration: 41 Loss: 1.0811887979507446\n",
      "Epoch: 5 Validation Loss: 1.0721778869628906\n",
      "Epoch: 6 - Iteration: 1 Loss: 1.0959861278533936\n",
      "Epoch: 6 - Iteration: 11 Loss: 1.0518474578857422\n",
      "Epoch: 6 - Iteration: 21 Loss: 1.0550687313079834\n",
      "Epoch: 6 - Iteration: 31 Loss: 1.0353858470916748\n",
      "Epoch: 6 - Iteration: 41 Loss: 1.0598289966583252\n",
      "Epoch: 6 Validation Loss: 1.0519777536392212\n",
      "Epoch: 7 - Iteration: 1 Loss: 1.0773357152938843\n",
      "Epoch: 7 - Iteration: 11 Loss: 1.0343689918518066\n",
      "Epoch: 7 - Iteration: 21 Loss: 1.0382213592529297\n",
      "Epoch: 7 - Iteration: 31 Loss: 1.0230289697647095\n",
      "Epoch: 7 - Iteration: 41 Loss: 1.0480077266693115\n",
      "Epoch: 7 Validation Loss: 1.039185881614685\n",
      "Epoch: 8 - Iteration: 1 Loss: 1.0635613203048706\n",
      "Epoch: 8 - Iteration: 11 Loss: 1.0231388807296753\n",
      "Epoch: 8 - Iteration: 21 Loss: 1.0283557176589966\n",
      "Epoch: 8 - Iteration: 31 Loss: 1.01198148727417\n",
      "Epoch: 8 - Iteration: 41 Loss: 1.037330150604248\n",
      "Epoch: 8 Validation Loss: 1.030469298362732\n",
      "Epoch: 9 - Iteration: 1 Loss: 1.0567026138305664\n",
      "Epoch: 9 - Iteration: 11 Loss: 1.013357400894165\n",
      "Epoch: 9 - Iteration: 21 Loss: 1.018984079360962\n",
      "Epoch: 9 - Iteration: 31 Loss: 1.0023130178451538\n",
      "Epoch: 9 - Iteration: 41 Loss: 1.0275661945343018\n",
      "Epoch: 9 Validation Loss: 1.0206559896469116\n",
      "Epoch: 10 - Iteration: 1 Loss: 1.0468229055404663\n",
      "Epoch: 10 - Iteration: 11 Loss: 1.0008188486099243\n",
      "Epoch: 10 - Iteration: 21 Loss: 1.007659673690796\n",
      "Epoch: 10 - Iteration: 31 Loss: 0.992029070854187\n",
      "Epoch: 10 - Iteration: 41 Loss: 1.0135126113891602\n",
      "Epoch: 10 Validation Loss: 1.0081590414047241\n",
      "Epoch: 11 - Iteration: 1 Loss: 1.0329149961471558\n",
      "Epoch: 11 - Iteration: 11 Loss: 0.9896254539489746\n",
      "Epoch: 11 - Iteration: 21 Loss: 0.9960378408432007\n",
      "Epoch: 11 - Iteration: 31 Loss: 0.9785615801811218\n",
      "Epoch: 11 - Iteration: 41 Loss: 1.0029642581939697\n",
      "Epoch: 11 Validation Loss: 0.9942326545715332\n",
      "Epoch: 12 - Iteration: 1 Loss: 1.0165870189666748\n",
      "Epoch: 12 - Iteration: 11 Loss: 0.9772631525993347\n",
      "Epoch: 12 - Iteration: 21 Loss: 0.9838603734970093\n",
      "Epoch: 12 - Iteration: 31 Loss: 0.9652172923088074\n",
      "Epoch: 12 - Iteration: 41 Loss: 0.9880862236022949\n",
      "Epoch: 12 Validation Loss: 0.9797365665435791\n",
      "Epoch: 13 - Iteration: 1 Loss: 1.0038882493972778\n",
      "Epoch: 13 - Iteration: 11 Loss: 0.9663532376289368\n",
      "Epoch: 13 - Iteration: 21 Loss: 0.9704141616821289\n",
      "Epoch: 13 - Iteration: 31 Loss: 0.9548740386962891\n",
      "Epoch: 13 - Iteration: 41 Loss: 0.9725958704948425\n",
      "Epoch: 13 Validation Loss: 0.9685972929000854\n",
      "Epoch: 14 - Iteration: 1 Loss: 0.9939442873001099\n",
      "Epoch: 14 - Iteration: 11 Loss: 0.9553345441818237\n",
      "Epoch: 14 - Iteration: 21 Loss: 0.96124267578125\n",
      "Epoch: 14 - Iteration: 31 Loss: 0.9491955637931824\n",
      "Epoch: 14 - Iteration: 41 Loss: 0.9653674364089966\n",
      "Epoch: 14 Validation Loss: 0.9603873491287231\n",
      "Epoch: 15 - Iteration: 1 Loss: 0.984433650970459\n",
      "Epoch: 15 - Iteration: 11 Loss: 0.9452460408210754\n",
      "Epoch: 15 - Iteration: 21 Loss: 0.9540459513664246\n",
      "Epoch: 15 - Iteration: 31 Loss: 0.93943852186203\n",
      "Epoch: 15 - Iteration: 41 Loss: 0.9559280276298523\n",
      "Epoch: 15 Validation Loss: 0.9558452367782593\n",
      "Epoch: 16 - Iteration: 1 Loss: 0.9759753942489624\n",
      "Epoch: 16 - Iteration: 11 Loss: 0.9387122392654419\n",
      "Epoch: 16 - Iteration: 21 Loss: 0.9467161297798157\n",
      "Epoch: 16 - Iteration: 31 Loss: 0.9358158111572266\n",
      "Epoch: 16 - Iteration: 41 Loss: 0.9501981735229492\n",
      "Epoch: 16 Validation Loss: 0.9494391679763794\n",
      "Epoch: 17 - Iteration: 1 Loss: 0.9668097496032715\n",
      "Epoch: 17 - Iteration: 11 Loss: 0.9359086155891418\n",
      "Epoch: 17 - Iteration: 21 Loss: 0.9451934695243835\n",
      "Epoch: 17 - Iteration: 31 Loss: 0.9274531602859497\n",
      "Epoch: 17 - Iteration: 41 Loss: 0.9418753385543823\n",
      "Epoch: 17 Validation Loss: 0.9455649256706238\n",
      "Epoch: 18 - Iteration: 1 Loss: 0.9631012082099915\n",
      "Epoch: 18 - Iteration: 11 Loss: 0.9288308024406433\n",
      "Epoch: 18 - Iteration: 21 Loss: 0.9352261424064636\n",
      "Epoch: 18 - Iteration: 31 Loss: 0.9192168116569519\n",
      "Epoch: 18 - Iteration: 41 Loss: 0.9393801689147949\n",
      "Epoch: 18 Validation Loss: 0.9414239525794983\n",
      "Epoch: 19 - Iteration: 1 Loss: 0.9545917510986328\n",
      "Epoch: 19 - Iteration: 11 Loss: 0.9247078895568848\n",
      "Epoch: 19 - Iteration: 21 Loss: 0.9298585057258606\n",
      "Epoch: 19 - Iteration: 31 Loss: 0.9173785448074341\n",
      "Epoch: 19 - Iteration: 41 Loss: 0.9343560338020325\n",
      "Epoch: 19 Validation Loss: 0.9369536638259888\n",
      "Epoch: 20 - Iteration: 1 Loss: 0.950032114982605\n",
      "Epoch: 20 - Iteration: 11 Loss: 0.9215869903564453\n",
      "Epoch: 20 - Iteration: 21 Loss: 0.9253289103507996\n",
      "Epoch: 20 - Iteration: 31 Loss: 0.91217440366745\n",
      "Epoch: 20 - Iteration: 41 Loss: 0.9304243922233582\n",
      "Epoch: 20 Validation Loss: 0.9316504001617432\n",
      "Epoch: 21 - Iteration: 1 Loss: 0.9418193101882935\n",
      "Epoch: 21 - Iteration: 11 Loss: 0.9134982824325562\n",
      "Epoch: 21 - Iteration: 21 Loss: 0.9232128858566284\n",
      "Epoch: 21 - Iteration: 31 Loss: 0.9077027440071106\n",
      "Epoch: 21 - Iteration: 41 Loss: 0.9219425916671753\n",
      "Epoch: 21 Validation Loss: 0.9302520751953125\n",
      "Epoch: 22 - Iteration: 1 Loss: 0.9407045245170593\n",
      "Epoch: 22 - Iteration: 11 Loss: 0.9083060026168823\n",
      "Epoch: 22 - Iteration: 21 Loss: 0.9181022644042969\n",
      "Epoch: 22 - Iteration: 31 Loss: 0.9037701487541199\n",
      "Epoch: 22 - Iteration: 41 Loss: 0.9175052642822266\n",
      "Epoch: 22 Validation Loss: 0.9261824488639832\n",
      "Epoch: 23 - Iteration: 1 Loss: 0.9325545430183411\n",
      "Epoch: 23 - Iteration: 11 Loss: 0.9043350219726562\n",
      "Epoch: 23 - Iteration: 21 Loss: 0.9144088625907898\n",
      "Epoch: 23 - Iteration: 31 Loss: 0.8986557722091675\n",
      "Epoch: 23 - Iteration: 41 Loss: 0.9144461750984192\n",
      "Epoch: 23 Validation Loss: 0.9242604970932007\n",
      "Epoch: 24 - Iteration: 1 Loss: 0.9300975799560547\n",
      "Epoch: 24 - Iteration: 11 Loss: 0.8990825414657593\n",
      "Epoch: 24 - Iteration: 21 Loss: 0.9104679822921753\n",
      "Epoch: 24 - Iteration: 31 Loss: 0.8920618295669556\n",
      "Epoch: 24 - Iteration: 41 Loss: 0.9064340591430664\n",
      "Epoch: 24 Validation Loss: 0.922835648059845\n",
      "Epoch: 25 - Iteration: 1 Loss: 0.9230201840400696\n",
      "Epoch: 25 - Iteration: 11 Loss: 0.8988834619522095\n",
      "Epoch: 25 - Iteration: 21 Loss: 0.9055212140083313\n",
      "Epoch: 25 - Iteration: 31 Loss: 0.8877896070480347\n",
      "Epoch: 25 - Iteration: 41 Loss: 0.9054800271987915\n",
      "Epoch: 25 Validation Loss: 0.9195079803466797\n",
      "Epoch: 26 - Iteration: 1 Loss: 0.9180232882499695\n",
      "Epoch: 26 - Iteration: 11 Loss: 0.8942696452140808\n",
      "Epoch: 26 - Iteration: 21 Loss: 0.9028315544128418\n",
      "Epoch: 26 - Iteration: 31 Loss: 0.8826828002929688\n",
      "Epoch: 26 - Iteration: 41 Loss: 0.9039998054504395\n",
      "Epoch: 26 Validation Loss: 0.9159414768218994\n",
      "Epoch: 27 - Iteration: 1 Loss: 0.9169392585754395\n",
      "Epoch: 27 - Iteration: 11 Loss: 0.8891596794128418\n",
      "Epoch: 27 - Iteration: 21 Loss: 0.8989310264587402\n",
      "Epoch: 27 - Iteration: 31 Loss: 0.8816277384757996\n",
      "Epoch: 27 - Iteration: 41 Loss: 0.9003693461418152\n",
      "Epoch: 27 Validation Loss: 0.9146770238876343\n",
      "Epoch: 28 - Iteration: 1 Loss: 0.909700870513916\n",
      "Epoch: 28 - Iteration: 11 Loss: 0.8855125308036804\n",
      "Epoch: 28 - Iteration: 21 Loss: 0.8932663798332214\n",
      "Epoch: 28 - Iteration: 31 Loss: 0.8778084516525269\n",
      "Epoch: 28 - Iteration: 41 Loss: 0.8942505121231079\n",
      "Epoch: 28 Validation Loss: 0.9114577174186707\n",
      "Epoch: 29 - Iteration: 1 Loss: 0.9056204557418823\n",
      "Epoch: 29 - Iteration: 11 Loss: 0.8820310831069946\n",
      "Epoch: 29 - Iteration: 21 Loss: 0.8910529017448425\n",
      "Epoch: 29 - Iteration: 31 Loss: 0.874673068523407\n",
      "Epoch: 29 - Iteration: 41 Loss: 0.8936265707015991\n",
      "Epoch: 29 Validation Loss: 0.9103718400001526\n",
      "Epoch: 30 - Iteration: 1 Loss: 0.8972557783126831\n",
      "Epoch: 30 - Iteration: 11 Loss: 0.8808972239494324\n",
      "Epoch: 30 - Iteration: 21 Loss: 0.8862021565437317\n",
      "Epoch: 30 - Iteration: 31 Loss: 0.8713159561157227\n",
      "Epoch: 30 - Iteration: 41 Loss: 0.8856894373893738\n",
      "Epoch: 30 Validation Loss: 0.9077717661857605\n"
     ]
    }
   ],
   "source": [
    "epochs = 30\n",
    "for epoch in range(epochs):\n",
    "    for i in range(X_train.shape[0]//batch_size):\n",
    "        X = X_train[i*batch_size:(i+1)*batch_size]\n",
    "        y = Y_train[i*batch_size:(i+1)*batch_size]             # (batch_size, seq_len)\n",
    "        model.train()\n",
    "        optimizer.zero_grad()\n",
    "        out = model(X)         # (batch_size, seq_len, n_vocab)\n",
    "        # flatten the output and target\n",
    "        out = out.view(-1, n_vocab)          # (batch_size*seq_len, n_vocab)\n",
    "        y = y.view(-1)                       # (batch_size*seq_len)\n",
    "        loss = criterion(out, y)\n",
    "        J_hist.append(loss.item())\n",
    "        loss.backward()\n",
    "        optimizer.step()\n",
    "        if i%10 == 0:\n",
    "            print(f'Epoch: {epoch+1} - Iteration: {i+1} Loss: {loss.item()}')\n",
    "        \n",
    "    print(f'Epoch: {epoch+1} Validation Loss: {get_loss()}')"
   ]
  },
  {
   "cell_type": "code",
   "execution_count": 281,
   "metadata": {},
   "outputs": [
    {
     "data": {
      "text/plain": [
       "[<matplotlib.lines.Line2D at 0x2838367cfb0>]"
      ]
     },
     "execution_count": 281,
     "metadata": {},
     "output_type": "execute_result"
    },
    {
     "data": {
      "image/png": "[encoded data removed]",
      "text/plain": [
       "<Figure size 640x480 with 1 Axes>"
      ]
     },
     "metadata": {},
     "output_type": "display_data"
    }
   ],
   "source": [
    "import matplotlib.pyplot as plt\n",
    "plt.plot(J_hist)"
   ]
  },
  {
   "cell_type": "code",
   "execution_count": 282,
   "metadata": {},
   "outputs": [
    {
     "data": {
      "text/plain": [
       "0.9079971313476562"
      ]
     },
     "execution_count": 282,
     "metadata": {},
     "output_type": "execute_result"
    }
   ],
   "source": [
    "get_loss()"
   ]
  },
  {
   "cell_type": "code",
   "execution_count": 283,
   "metadata": {},
   "outputs": [],
   "source": [
    "# let's generate some words\n",
    "n = 25\n",
    "x = torch.tensor(25*[[27]])\n",
    "words = model.generate_words(x, max_len)\n",
    "words = decoder(words.tolist())"
   ]
  },
  {
   "cell_type": "code",
   "execution_count": 284,
   "metadata": {},
   "outputs": [],
   "source": [
    "words = [w[1:w.find('.')] for w in words]"
   ]
  },
  {
   "cell_type": "code",
   "execution_count": 285,
   "metadata": {},
   "outputs": [
    {
     "data": {
      "text/plain": [
       "['samera',\n",
       " 'daylene',\n",
       " 'onica',\n",
       " 'taysen',\n",
       " 'keniah',\n",
       " 'bahdred',\n",
       " 'ashu',\n",
       " 'lidap',\n",
       " 'plete',\n",
       " 'jamonda',\n",
       " 'anya',\n",
       " 'ota',\n",
       " 'mauden',\n",
       " 'nezricha',\n",
       " 'colat',\n",
       " 'jidia',\n",
       " 'roway',\n",
       " 'amariella',\n",
       " 'keven',\n",
       " 'zian',\n",
       " 'tasalen',\n",
       " 'ebetkay',\n",
       " 'catyoni',\n",
       " 'radu',\n",
       " 'testam']"
      ]
     },
     "execution_count": 285,
     "metadata": {},
     "output_type": "execute_result"
    }
   ],
   "source": [
    "words"
   ]
  },
  {
   "cell_type": "code",
   "execution_count": 286,
   "metadata": {},
   "outputs": [],
   "source": [
    "# saving the model\n",
    "torch.save(model.state_dict(),'lstm_model.pth')"
   ]
  },
  {
   "cell_type": "code",
   "execution_count": 287,
   "metadata": {},
   "outputs": [],
   "source": [
    "# generating samples\n",
    "n = 250\n",
    "x = torch.tensor(n*[[27]])\n",
    "words = model.generate_words(x, max_len)\n",
    "words = decoder(words.tolist())\n",
    "words = [w[1:w.find('.')] for w in words]\n",
    "\n",
    "with open ('lstm_samples.txt','w') as f:\n",
    "    for w in words:\n",
    "        f.write(w + '\\n')"
   ]
  },
  {
   "cell_type": "markdown",
   "metadata": {},
   "source": [
    "### Yayyy!!!!!!!!!"
   ]
  }
 ],
 "metadata": {
  "kernelspec": {
   "display_name": "Python 3",
   "language": "python",
   "name": "python3"
  },
  "language_info": {
   "codemirror_mode": {
    "name": "ipython",
    "version": 3
   },
   "file_extension": ".py",
   "mimetype": "text/x-python",
   "name": "python",
   "nbconvert_exporter": "python",
   "pygments_lexer": "ipython3",
   "version": "3.12.4"
  }
 },
 "nbformat": 4,
 "nbformat_minor": 2
}
